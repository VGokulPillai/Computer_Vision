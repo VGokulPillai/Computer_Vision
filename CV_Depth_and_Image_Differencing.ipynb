{
  "nbformat": 4,
  "nbformat_minor": 0,
  "metadata": {
    "colab": {
      "name": "CV_Depth_and_Image_Differencing.ipynb",
      "provenance": [],
      "include_colab_link": true
    },
    "kernelspec": {
      "name": "python3",
      "display_name": "Python 3"
    },
    "language_info": {
      "name": "python"
    }
  },
  "cells": [
    {
      "cell_type": "markdown",
      "metadata": {
        "id": "view-in-github",
        "colab_type": "text"
      },
      "source": [
        "<a href=\"https://colab.research.google.com/github/VGokulPillai/Computer_Vision/blob/main/CV_Depth_and_Image_Differencing.ipynb\" target=\"_parent\"><img src=\"https://colab.research.google.com/assets/colab-badge.svg\" alt=\"Open In Colab\"/></a>"
      ]
    },
    {
      "cell_type": "code",
      "source": [
        "# Tutorial 8\n",
        "# Finding depth"
      ],
      "metadata": {
        "id": "xlIePO_Sxxzc"
      },
      "execution_count": null,
      "outputs": []
    },
    {
      "cell_type": "code",
      "execution_count": null,
      "metadata": {
        "id": "dNoXUD5Dqp6i",
        "colab": {
          "base_uri": "https://localhost:8080/"
        },
        "outputId": "70afde67-c0b8-4a16-b748-05fc4b512fdf"
      },
      "outputs": [
        {
          "output_type": "stream",
          "name": "stdout",
          "text": [
            "1.3999999999999997 metres\n"
          ]
        }
      ],
      "source": [
        "# Along camera axis\n",
        "# When focal length and pixel size is given\n",
        "\n",
        "cameraVelocity = 0.1\n",
        "focalLength_milli = 35\n",
        "pixelSize_milli = 0.1\n",
        "\n",
        "# Convert from mm to metres\n",
        "pixelSize = 0.1 / 100\n",
        "focalLength = 35 / 100\n",
        "\n",
        "# X-coordinate of point at t\n",
        "point_1_x = 25\n",
        "\n",
        "#x of point at t+1\n",
        "point_2_x = 50\n",
        "\n",
        "velocity_pixels = point_1_x - point_2_x / 1\n",
        "velocity_mps = pixelSize * velocity_pixels\n",
        "\n",
        "depth = -(((focalLength)*cameraVelocity) / velocity_mps)\n",
        "\n",
        "print(depth, \"metres\")"
      ]
    },
    {
      "cell_type": "code",
      "source": [
        "# Along optical axis\n",
        "# When centre of image coordinates given\n",
        "point_t1 = (50,70)\n",
        "point_t_plus1 = (45,63)\n",
        "centre = (100,140)\n",
        "cameraVelocity = 0.1\n",
        "\n",
        "# [0] = x-coordinate and [1] = y-coordinate\n",
        "\n",
        "point_t1_centre = ((point_t1[0] - centre[0]), (point_t1[1] - centre[1]))\n",
        "\n",
        "point_t_plus1_centre = ((point_t_plus1[0] - centre[0]), (point_t_plus1[1] - centre[1]))\n",
        "\n",
        "velocity = (point_t_plus1_centre[0] - point_t1_centre[0]) / 1\n",
        "depth = (point_t1_centre[0] * cameraVelocity)/velocity\n",
        "\n",
        "print(depth, \"metres\")\n",
        "\n",
        "# Finding time-to-collision\n",
        "# Does not require the recovery of the depth of scene point\n",
        "# x1/x\n",
        "\n",
        "time_to_collision = point_t1_centre[0] / velocity\n",
        "print(time_to_collision, \"seconds\")\n",
        "#(From the answer to the previous question, we know that the camera is 1m from the point and moving at 0.1ms−1, so this agrees with the result above.)"
      ],
      "metadata": {
        "colab": {
          "base_uri": "https://localhost:8080/"
        },
        "id": "euh-IRWxymW4",
        "outputId": "c3910667-01a2-4b7a-a063-d40cace615df"
      },
      "execution_count": null,
      "outputs": [
        {
          "output_type": "stream",
          "name": "stdout",
          "text": [
            "1.0\n",
            "10.0\n"
          ]
        }
      ]
    },
    {
      "cell_type": "code",
      "source": [
        "# Image differencing\n",
        "# Background subtraction\n",
        "import numpy as np \n",
        "\n",
        "frame1 = [190, 200, 90, 110, 90]\n",
        "frame2 = [110, 170, 160, 70, 70]\n",
        "frame3 = [100, 60, 170, 200, 90]\n",
        "frame4 = [90, 100, 100, 190, 190]\n",
        "frames = [frame1, frame2, frame3, frame4]\n",
        "\n",
        "threshold = 50\n",
        "\n",
        "def differencing(frame1, frame2):\n",
        "  return [abs(frame1[i] - frame2[i]) for i in range(len(frame1))]\n",
        "\n",
        "\n",
        "for i in range(len(frames)-1):\n",
        "  diff = differencing(frames[i], frames[i+1])\n",
        "  print(\"diff: \", diff)\n",
        "  np_diff = np.array(diff)\n",
        "  print(\"diff thresh: \", np_diff > threshold)\n",
        "\n",
        "\n",
        "def background(frames):\n",
        "  B = np.zeros(len(frames[0]))\n",
        "  beta = 0.5\n",
        "  for i in range(len(frames)):\n",
        "    print(\"t\", i+1)\n",
        "    # Calculate background (moving average)\n",
        "    B = (1 - beta)*B + (beta*np.array(frames[i]))\n",
        "    print(\" B: \", B)\n",
        "\n",
        "    # Subtract background\n",
        "    background_subtract = abs(frames[i] - B)\n",
        "    print(\"frame - B:\", background_subtract)\n",
        "    print(\"threshold: \", background_subtract > threshold)\n",
        "\n",
        "background(frames)\n",
        "\n"
      ],
      "metadata": {
        "colab": {
          "base_uri": "https://localhost:8080/"
        },
        "id": "vDKA8esE03I_",
        "outputId": "114c2cd6-dbb9-492f-a0ba-c8de361cee99"
      },
      "execution_count": null,
      "outputs": [
        {
          "output_type": "stream",
          "name": "stdout",
          "text": [
            "diff:  [80, 30, 70, 40, 20]\n",
            "diff thresh:  [ True False  True False False]\n",
            "diff:  [10, 110, 10, 130, 20]\n",
            "diff thresh:  [False  True False  True False]\n",
            "diff:  [10, 40, 70, 10, 100]\n",
            "diff thresh:  [False False  True False  True]\n",
            "t 1\n",
            " B:  [ 95. 100.  45.  55.  45.]\n",
            "frame - B: [ 95. 100.  45.  55.  45.]\n",
            "threshold:  [ True  True False  True False]\n",
            "t 2\n",
            " B:  [102.5 135.  102.5  62.5  57.5]\n",
            "frame - B: [ 7.5 35.  57.5  7.5 12.5]\n",
            "threshold:  [False False  True False False]\n",
            "t 3\n",
            " B:  [101.25  97.5  136.25 131.25  73.75]\n",
            "frame - B: [ 1.25 37.5  33.75 68.75 16.25]\n",
            "threshold:  [False False False  True False]\n",
            "t 4\n",
            " B:  [ 95.625  98.75  118.125 160.625 131.875]\n",
            "frame - B: [ 5.625  1.25  18.125 29.375 58.125]\n",
            "threshold:  [False False False False  True]\n"
          ]
        }
      ]
    },
    {
      "cell_type": "code",
      "source": [
        ""
      ],
      "metadata": {
        "id": "MHN35aeP-gFT"
      },
      "execution_count": null,
      "outputs": []
    }
  ]
}